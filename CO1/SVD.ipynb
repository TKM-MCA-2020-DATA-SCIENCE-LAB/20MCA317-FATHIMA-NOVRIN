{
  "nbformat": 4,
  "nbformat_minor": 0,
  "metadata": {
    "colab": {
      "name": "SVD",
      "provenance": []
    },
    "kernelspec": {
      "name": "python3",
      "display_name": "Python 3"
    },
    "language_info": {
      "name": "python"
    }
  },
  "cells": [
    {
      "cell_type": "code",
      "execution_count": 1,
      "metadata": {
        "id": "T_1MZtFF9t_H"
      },
      "outputs": [],
      "source": [
        "import numpy as np\n",
        "from numpy.linalg import svd"
      ]
    },
    {
      "cell_type": "code",
      "source": [
        "A = np.array([[1,2,3], [4,5,6], [5,7,9]])\n",
        "U, S, VT = svd(A)"
      ],
      "metadata": {
        "id": "tvGwKlja90Ig"
      },
      "execution_count": 2,
      "outputs": []
    },
    {
      "cell_type": "code",
      "source": [
        "U"
      ],
      "metadata": {
        "colab": {
          "base_uri": "https://localhost:8080/"
        },
        "id": "UOiraU_d93kD",
        "outputId": "6db35f77-d234-4b91-92fe-e4b642d5f789"
      },
      "execution_count": 3,
      "outputs": [
        {
          "output_type": "execute_result",
          "data": {
            "text/plain": [
              "array([[-0.2354116 ,  0.78182354, -0.57735027],\n",
              "       [-0.55937325, -0.5947842 , -0.57735027],\n",
              "       [-0.79478485,  0.18703934,  0.57735027]])"
            ]
          },
          "metadata": {},
          "execution_count": 3
        }
      ]
    },
    {
      "cell_type": "code",
      "source": [
        "S"
      ],
      "metadata": {
        "colab": {
          "base_uri": "https://localhost:8080/"
        },
        "id": "qRb4liVv9-NI",
        "outputId": "e13bf704-60dc-4993-c1b6-b27a5b043c7c"
      },
      "execution_count": 4,
      "outputs": [
        {
          "output_type": "execute_result",
          "data": {
            "text/plain": [
              "array([1.56633231e+01, 8.12593979e-01, 1.13716384e-15])"
            ]
          },
          "metadata": {},
          "execution_count": 4
        }
      ]
    },
    {
      "cell_type": "code",
      "source": [
        "VT"
      ],
      "metadata": {
        "colab": {
          "base_uri": "https://localhost:8080/"
        },
        "id": "YOmFdcJC9_Zn",
        "outputId": "dc8ab302-3f1f-4ad2-b8ae-d7b1b630b35f"
      },
      "execution_count": 5,
      "outputs": [
        {
          "output_type": "execute_result",
          "data": {
            "text/plain": [
              "array([[-0.41158755, -0.56381288, -0.71603821],\n",
              "       [-0.8148184 , -0.12429146,  0.56623547],\n",
              "       [-0.40824829,  0.81649658, -0.40824829]])"
            ]
          },
          "metadata": {},
          "execution_count": 5
        }
      ]
    },
    {
      "cell_type": "code",
      "source": [
        "a=(U @ np.diag(S) @ VT)"
      ],
      "metadata": {
        "id": "ayj8G9jm-AlG"
      },
      "execution_count": 6,
      "outputs": []
    },
    {
      "cell_type": "code",
      "source": [
        "a"
      ],
      "metadata": {
        "colab": {
          "base_uri": "https://localhost:8080/"
        },
        "id": "Rt_tfhBZ-Epl",
        "outputId": "2edd6f70-b7b4-40f3-83cf-dbe6f8c9eb4e"
      },
      "execution_count": 7,
      "outputs": [
        {
          "output_type": "execute_result",
          "data": {
            "text/plain": [
              "array([[1., 2., 3.],\n",
              "       [4., 5., 6.],\n",
              "       [5., 7., 9.]])"
            ]
          },
          "metadata": {},
          "execution_count": 7
        }
      ]
    },
    {
      "cell_type": "code",
      "source": [
        ""
      ],
      "metadata": {
        "id": "5QAsup_F-Hrd"
      },
      "execution_count": null,
      "outputs": []
    }
  ]
}